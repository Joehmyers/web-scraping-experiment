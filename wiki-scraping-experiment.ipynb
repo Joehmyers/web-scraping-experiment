{
 "cells": [
  {
   "cell_type": "code",
   "execution_count": 116,
   "metadata": {},
   "outputs": [],
   "source": [
    "from bs4 import BeautifulSoup\n",
    "import requests\n",
    "import pandas as pd\n",
    "import matplotlib as plt"
   ]
  },
  {
   "cell_type": "markdown",
   "metadata": {},
   "source": [
    "The goal here is to scrape the tables from this wiki and convert them into pandas dataframes fit for an analytics workflow."
   ]
  },
  {
   "cell_type": "code",
   "execution_count": 117,
   "metadata": {},
   "outputs": [],
   "source": [
    "url = 'https://en.wikipedia.org/wiki/List_of_largest_companies_in_the_United_States_by_revenue'\n",
    "\n",
    "response = requests.get(url)"
   ]
  },
  {
   "cell_type": "code",
   "execution_count": 118,
   "metadata": {},
   "outputs": [],
   "source": [
    "soup = BeautifulSoup(response.text, features='html')\n",
    "\n",
    "#lets first extract the columns from this table\n",
    "tables = soup.find_all(\"table\")\n"
   ]
  },
  {
   "cell_type": "code",
   "execution_count": 119,
   "metadata": {},
   "outputs": [],
   "source": [
    "def process_table(table):\n",
    "\n",
    "    #find and process headers\n",
    "    raw_headers = table.find_all(\"th\")\n",
    "    headers = [header.text.strip() for header in raw_headers]\n",
    "\n",
    "    #find and process rows\n",
    "    raw_rows = table.find_all(\"tr\")\n",
    "    rows = [[value.text.strip() for value in row.find_all(\"td\")] for row in raw_rows[1:]]\n",
    "\n",
    "    return pd.DataFrame(data=rows, columns=headers).set_index(\"Rank\")"
   ]
  },
  {
   "cell_type": "code",
   "execution_count": 120,
   "metadata": {},
   "outputs": [],
   "source": [
    "df_public = process_table(tables[0])\n",
    "df_private = process_table(tables[1])\n",
    "df_profit = process_table(tables[2])"
   ]
  },
  {
   "cell_type": "code",
   "execution_count": 121,
   "metadata": {},
   "outputs": [],
   "source": [
    "df_public['Revenue (USD millions)'] = df_public['Revenue (USD millions)'].str.replace(\",\", \"\").astype(\"float\")\n",
    "df_public['Revenue growth'] = df_public['Revenue growth'].str.replace(\"%\", \"\").astype(\"float\")\n",
    "df_public['Employees'] = df_public['Employees'].str.replace(\",\", \"\").astype(\"int\")"
   ]
  },
  {
   "cell_type": "code",
   "execution_count": 122,
   "metadata": {},
   "outputs": [
    {
     "name": "stdout",
     "output_type": "stream",
     "text": [
      "<class 'pandas.core.frame.DataFrame'>\n",
      "Index: 100 entries, 1 to 100\n",
      "Data columns (total 6 columns):\n",
      " #   Column                  Non-Null Count  Dtype  \n",
      "---  ------                  --------------  -----  \n",
      " 0   Name                    100 non-null    object \n",
      " 1   Industry                100 non-null    object \n",
      " 2   Revenue (USD millions)  100 non-null    float64\n",
      " 3   Revenue growth          100 non-null    float64\n",
      " 4   Employees               100 non-null    int32  \n",
      " 5   Headquarters            100 non-null    object \n",
      "dtypes: float64(2), int32(1), object(3)\n",
      "memory usage: 5.1+ KB\n"
     ]
    }
   ],
   "source": [
    "df_public.info()"
   ]
  },
  {
   "cell_type": "code",
   "execution_count": 123,
   "metadata": {},
   "outputs": [],
   "source": [
    "#process the numerical columns currently represented as strings.\n",
    "df_private[\"Revenue (USD billions)\"] = df_private[\"Revenue (USD billions)\"].astype(\"float\")\n",
    "df_private['Employees'] = df_private['Employees'].str.replace(\",\", \"\").astype(\"int\")"
   ]
  },
  {
   "cell_type": "code",
   "execution_count": 124,
   "metadata": {},
   "outputs": [
    {
     "data": {
      "text/html": [
       "<div>\n",
       "<style scoped>\n",
       "    .dataframe tbody tr th:only-of-type {\n",
       "        vertical-align: middle;\n",
       "    }\n",
       "\n",
       "    .dataframe tbody tr th {\n",
       "        vertical-align: top;\n",
       "    }\n",
       "\n",
       "    .dataframe thead th {\n",
       "        text-align: right;\n",
       "    }\n",
       "</style>\n",
       "<table border=\"1\" class=\"dataframe\">\n",
       "  <thead>\n",
       "    <tr style=\"text-align: right;\">\n",
       "      <th></th>\n",
       "      <th>Name</th>\n",
       "      <th>Industry</th>\n",
       "      <th>Revenue (USD billions)</th>\n",
       "      <th>Employees</th>\n",
       "      <th>Headquarters</th>\n",
       "    </tr>\n",
       "    <tr>\n",
       "      <th>Rank</th>\n",
       "      <th></th>\n",
       "      <th></th>\n",
       "      <th></th>\n",
       "      <th></th>\n",
       "      <th></th>\n",
       "    </tr>\n",
       "  </thead>\n",
       "  <tbody>\n",
       "    <tr>\n",
       "      <th>1</th>\n",
       "      <td>Cargill</td>\n",
       "      <td>Food industry</td>\n",
       "      <td>177.0</td>\n",
       "      <td>160000</td>\n",
       "      <td>Minnetonka, Minnesota</td>\n",
       "    </tr>\n",
       "    <tr>\n",
       "      <th>2</th>\n",
       "      <td>Koch Industries</td>\n",
       "      <td>Conglomerate</td>\n",
       "      <td>125.0</td>\n",
       "      <td>120000</td>\n",
       "      <td>Wichita, Kansas</td>\n",
       "    </tr>\n",
       "    <tr>\n",
       "      <th>3</th>\n",
       "      <td>Publix Super Markets</td>\n",
       "      <td>Retail</td>\n",
       "      <td>54.5</td>\n",
       "      <td>250000</td>\n",
       "      <td>Winter Haven, Florida</td>\n",
       "    </tr>\n",
       "    <tr>\n",
       "      <th>4</th>\n",
       "      <td>Mars, Incorporated</td>\n",
       "      <td>Food industry</td>\n",
       "      <td>47.0</td>\n",
       "      <td>140000</td>\n",
       "      <td>McLean, Virginia</td>\n",
       "    </tr>\n",
       "    <tr>\n",
       "      <th>5</th>\n",
       "      <td>H-E-B</td>\n",
       "      <td>Retail</td>\n",
       "      <td>43.6</td>\n",
       "      <td>145000</td>\n",
       "      <td>San Antonio, Texas</td>\n",
       "    </tr>\n",
       "    <tr>\n",
       "      <th>6</th>\n",
       "      <td>Reyes Holdings</td>\n",
       "      <td>Wholesaling</td>\n",
       "      <td>40.0</td>\n",
       "      <td>36000</td>\n",
       "      <td>Rosemont, Illinois</td>\n",
       "    </tr>\n",
       "    <tr>\n",
       "      <th>7</th>\n",
       "      <td>Enterprise Holdings</td>\n",
       "      <td>Car rental</td>\n",
       "      <td>35.0</td>\n",
       "      <td>90000</td>\n",
       "      <td>Clayton, Missouri</td>\n",
       "    </tr>\n",
       "    <tr>\n",
       "      <th>8</th>\n",
       "      <td>C&amp;S Wholesale Grocers</td>\n",
       "      <td>Wholesaling</td>\n",
       "      <td>34.7</td>\n",
       "      <td>15000</td>\n",
       "      <td>Keene, New Hampshire</td>\n",
       "    </tr>\n",
       "    <tr>\n",
       "      <th>9</th>\n",
       "      <td>Love's</td>\n",
       "      <td>Petroleum industry and Retail</td>\n",
       "      <td>26.5</td>\n",
       "      <td>40000</td>\n",
       "      <td>Oklahoma City, Oklahoma</td>\n",
       "    </tr>\n",
       "    <tr>\n",
       "      <th>10</th>\n",
       "      <td>Southern Glazer's Wine and Spirits</td>\n",
       "      <td>Food industry</td>\n",
       "      <td>26.0</td>\n",
       "      <td>24000</td>\n",
       "      <td>Miramar, Florida</td>\n",
       "    </tr>\n",
       "  </tbody>\n",
       "</table>\n",
       "</div>"
      ],
      "text/plain": [
       "                                    Name                       Industry  \\\n",
       "Rank                                                                      \n",
       "1                                Cargill                  Food industry   \n",
       "2                        Koch Industries                   Conglomerate   \n",
       "3                   Publix Super Markets                         Retail   \n",
       "4                     Mars, Incorporated                  Food industry   \n",
       "5                                  H-E-B                         Retail   \n",
       "6                         Reyes Holdings                    Wholesaling   \n",
       "7                    Enterprise Holdings                     Car rental   \n",
       "8                  C&S Wholesale Grocers                    Wholesaling   \n",
       "9                                 Love's  Petroleum industry and Retail   \n",
       "10    Southern Glazer's Wine and Spirits                  Food industry   \n",
       "\n",
       "      Revenue (USD billions)  Employees             Headquarters  \n",
       "Rank                                                              \n",
       "1                      177.0     160000    Minnetonka, Minnesota  \n",
       "2                      125.0     120000          Wichita, Kansas  \n",
       "3                       54.5     250000    Winter Haven, Florida  \n",
       "4                       47.0     140000         McLean, Virginia  \n",
       "5                       43.6     145000       San Antonio, Texas  \n",
       "6                       40.0      36000       Rosemont, Illinois  \n",
       "7                       35.0      90000        Clayton, Missouri  \n",
       "8                       34.7      15000     Keene, New Hampshire  \n",
       "9                       26.5      40000  Oklahoma City, Oklahoma  \n",
       "10                      26.0      24000         Miramar, Florida  "
      ]
     },
     "execution_count": 124,
     "metadata": {},
     "output_type": "execute_result"
    }
   ],
   "source": [
    "df_private"
   ]
  },
  {
   "cell_type": "code",
   "execution_count": 127,
   "metadata": {},
   "outputs": [
    {
     "name": "stdout",
     "output_type": "stream",
     "text": [
      "<class 'pandas.core.frame.DataFrame'>\n",
      "Index: 10 entries, 1 to 10\n",
      "Data columns (total 3 columns):\n",
      " #   Column                 Non-Null Count  Dtype \n",
      "---  ------                 --------------  ----- \n",
      " 0   Name                   10 non-null     object\n",
      " 1   Industry               10 non-null     object\n",
      " 2   Profits(USD millions)  10 non-null     object\n",
      "dtypes: object(3)\n",
      "memory usage: 320.0+ bytes\n"
     ]
    }
   ],
   "source": [
    "df_profit.info()"
   ]
  },
  {
   "cell_type": "code",
   "execution_count": 128,
   "metadata": {},
   "outputs": [],
   "source": [
    "df_profit[\"Profits(USD millions)\"] = df_profit[\"Profits(USD millions)\"].str.replace(\",\",\"\").astype(\"float\")"
   ]
  },
  {
   "cell_type": "code",
   "execution_count": 129,
   "metadata": {},
   "outputs": [
    {
     "name": "stdout",
     "output_type": "stream",
     "text": [
      "<class 'pandas.core.frame.DataFrame'>\n",
      "Index: 10 entries, 1 to 10\n",
      "Data columns (total 3 columns):\n",
      " #   Column                 Non-Null Count  Dtype  \n",
      "---  ------                 --------------  -----  \n",
      " 0   Name                   10 non-null     object \n",
      " 1   Industry               10 non-null     object \n",
      " 2   Profits(USD millions)  10 non-null     float64\n",
      "dtypes: float64(1), object(2)\n",
      "memory usage: 320.0+ bytes\n"
     ]
    }
   ],
   "source": [
    "df_profit.info()"
   ]
  },
  {
   "cell_type": "markdown",
   "metadata": {},
   "source": [
    "# Hypotheses \n",
    "\n",
    "1. Public companies will be much larger in all dimensions than private companies.\n",
    "2. Silicon Valley will dominate in terms of profits.\n",
    "3. There is a power law distribution at work in all numerical variables"
   ]
  }
 ],
 "metadata": {
  "kernelspec": {
   "display_name": "base",
   "language": "python",
   "name": "python3"
  },
  "language_info": {
   "codemirror_mode": {
    "name": "ipython",
    "version": 3
   },
   "file_extension": ".py",
   "mimetype": "text/x-python",
   "name": "python",
   "nbconvert_exporter": "python",
   "pygments_lexer": "ipython3",
   "version": "3.9.13"
  }
 },
 "nbformat": 4,
 "nbformat_minor": 2
}
